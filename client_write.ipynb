{
 "cells": [
  {
   "cell_type": "code",
   "execution_count": null,
   "id": "3534bf54",
   "metadata": {},
   "outputs": [],
   "source": [
    "import socket\n",
    "import time\n",
    "import threading\n",
    "\n",
    "# IP ADDRESS AND PORT NUMBER for the first server\n",
    "server_ip = '127.0.0.1'\n",
    "server_port = 5000\n",
    "\n",
    "# TCP/IP SOCKET\n",
    "client_socket = socket.socket(socket.AF_INET, socket.SOCK_STREAM)\n",
    "# Connect to the server\n",
    "client_socket.connect((server_ip, server_port))\n",
    "\n",
    "def create_message(addr, val):\n",
    "    return \"WRITE*{}*{}\".format(addr, val)\n",
    "\n",
    "def send_message(client_socket, addr, val):\n",
    "    message = create_message(addr, val)\n",
    "    client_socket.sendall(message.encode())\n",
    "    print(f\"Sending message: {message}\")\n",
    "    response = client_socket.recv(1024)\n",
    "    print(f\"Server response: {response.decode()}\")\n",
    "\n",
    "# Sonsuz döngü içinde 8 farklı mesajı gönderme\n",
    "while True:\n",
    "    send_message(client_socket, 23, 45)\n",
    "    send_message(client_socket, 24, 42)\n",
    "    send_message(client_socket, 25, 30)\n",
    "    send_message(client_socket, 26, 35)\n",
    "    send_message(client_socket, 27, 50)\n",
    "    send_message(client_socket, 28, 55)\n",
    "    send_message(client_socket, 29, 70)\n",
    "    send_message(client_socket, 30, 10)\n",
    "    time.sleep(1)  # Her bir döngü adımı arasında 1 saniye bekleyin\n",
    "    send_message(client_socket, 23, 10)\n",
    "    send_message(client_socket, 24, 20)\n",
    "    send_message(client_socket, 25, 62)\n",
    "    send_message(client_socket, 26, 40)\n",
    "    send_message(client_socket, 27, 60)\n",
    "    send_message(client_socket, 28, 70)\n",
    "    send_message(client_socket, 29, 80)\n",
    "    send_message(client_socket, 30, 5)\n",
    "    time.sleep(1)  # Her bir döngü adımı arasında 1 saniye bekleyin\n",
    "    send_message(client_socket, 23, 31)\n",
    "    send_message(client_socket, 24, 35)\n",
    "    send_message(client_socket, 25, 43)\n",
    "    send_message(client_socket, 26, 19)\n",
    "    send_message(client_socket, 27, 85)\n",
    "    send_message(client_socket, 28, 42)\n",
    "    send_message(client_socket, 29, 63)\n",
    "    send_message(client_socket, 30, 8)\n",
    "    time.sleep(1)  # Her bir döngü adımı arasında 1 saniye bek\n",
    "\n"
   ]
  }
 ],
 "metadata": {
  "kernelspec": {
   "display_name": "Python 3 (ipykernel)",
   "language": "python",
   "name": "python3"
  },
  "language_info": {
   "codemirror_mode": {
    "name": "ipython",
    "version": 3
   },
   "file_extension": ".py",
   "mimetype": "text/x-python",
   "name": "python",
   "nbconvert_exporter": "python",
   "pygments_lexer": "ipython3",
   "version": "3.9.19"
  }
 },
 "nbformat": 4,
 "nbformat_minor": 5
}
